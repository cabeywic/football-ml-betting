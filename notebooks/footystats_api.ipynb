{
 "cells": [
  {
   "cell_type": "code",
   "execution_count": 1,
   "metadata": {
    "collapsed": true,
    "pycharm": {
     "name": "#%%\n"
    }
   },
   "outputs": [],
   "source": [
    "import requests\n",
    "import json\n",
    "import pandas as pd"
   ]
  },
  {
   "cell_type": "code",
   "execution_count": 2,
   "metadata": {
    "collapsed": false,
    "pycharm": {
     "name": "#%%\n"
    }
   },
   "outputs": [],
   "source": [
    "# Define the API key and the base URL\n",
    "api_key = \"\""
   ]
  },
  {
   "cell_type": "code",
   "execution_count": 3,
   "metadata": {},
   "outputs": [],
   "source": [
    "import requests\n",
    "\n",
    "class APIClient:\n",
    "    \"\"\"Football data API client\"\"\"\n",
    "\n",
    "    BASE_URL = 'https://api.football-data-api.com'\n",
    "\n",
    "    def __init__(self, key):\n",
    "        self.key = key\n",
    "\n",
    "    def _make_request(self, endpoint, params=None):\n",
    "        \"\"\"General method for making requests\"\"\"\n",
    "        params = params or {}\n",
    "        params['key'] = self.key\n",
    "        response = requests.get(f'{self.BASE_URL}/{endpoint}', params=params)\n",
    "\n",
    "        response.raise_for_status()\n",
    "\n",
    "        return response.json()['data']\n",
    "\n",
    "class LeagueDataClient(APIClient):\n",
    "    \"\"\"API client for getting League data\"\"\"\n",
    "\n",
    "    def get_league_list(self, **kwargs):\n",
    "        return self._make_request('league-list', params=kwargs)\n",
    "\n",
    "    def get_country_list(self):\n",
    "        return self._make_request('country-list')\n",
    "\n",
    "    def get_todays_matches(self, **kwargs):\n",
    "        return self._make_request('todays-matches', params=kwargs)\n",
    "\n",
    "    def get_league_matches(self, season_id, **kwargs):\n",
    "        kwargs.update({'season_id': season_id})\n",
    "        return self._make_request('league-matches', params=kwargs)\n",
    "\n",
    "    def get_league_season(self, season_id, **kwargs):\n",
    "        kwargs.update({'season_id': season_id})\n",
    "        return self._make_request('league-season', params=kwargs)\n",
    "\n",
    "    def get_league_teams(self, season_id, **kwargs):\n",
    "        kwargs.update({'season_id': season_id})\n",
    "        return self._make_request('league-teams', params=kwargs)\n",
    "\n",
    "    def get_league_players(self, season_id, **kwargs):\n",
    "        kwargs.update({'season_id': season_id})\n",
    "        return self._make_request('league-players', params=kwargs)\n",
    "\n",
    "    def get_league_referees(self, season_id, **kwargs):\n",
    "        kwargs.update({'season_id': season_id})\n",
    "        return self._make_request('league-referees', params=kwargs)\n",
    "\n",
    "    def get_team(self, team_id):\n",
    "        return self._make_request('team', {'team_id': team_id})\n",
    "\n",
    "    def get_match_stats(self, match_id):\n",
    "        return self._make_request('match', {'match_id': match_id})"
   ]
  },
  {
   "cell_type": "code",
   "execution_count": 4,
   "metadata": {
    "collapsed": false,
    "pycharm": {
     "name": "#%%\n"
    }
   },
   "outputs": [],
   "source": [
    "client = LeagueDataClient(api_key)"
   ]
  },
  {
   "cell_type": "code",
   "execution_count": 5,
   "metadata": {},
   "outputs": [
    {
     "data": {
      "text/html": [
       "<div>\n",
       "<style scoped>\n",
       "    .dataframe tbody tr th:only-of-type {\n",
       "        vertical-align: middle;\n",
       "    }\n",
       "\n",
       "    .dataframe tbody tr th {\n",
       "        vertical-align: top;\n",
       "    }\n",
       "\n",
       "    .dataframe thead th {\n",
       "        text-align: right;\n",
       "    }\n",
       "</style>\n",
       "<table border=\"1\" class=\"dataframe\">\n",
       "  <thead>\n",
       "    <tr style=\"text-align: right;\">\n",
       "      <th></th>\n",
       "      <th>name</th>\n",
       "      <th>country</th>\n",
       "      <th>league_name</th>\n",
       "      <th>image</th>\n",
       "      <th>season</th>\n",
       "    </tr>\n",
       "  </thead>\n",
       "  <tbody>\n",
       "    <tr>\n",
       "      <th>5</th>\n",
       "      <td>England Premier League</td>\n",
       "      <td>England</td>\n",
       "      <td>Premier League</td>\n",
       "      <td>https://cdn.footystats.org/img/competitions/en...</td>\n",
       "      <td>[{'id': 9, 'year': 20162017}, {'id': 10, 'year...</td>\n",
       "    </tr>\n",
       "  </tbody>\n",
       "</table>\n",
       "</div>"
      ],
      "text/plain": [
       "                     name  country     league_name  \\\n",
       "5  England Premier League  England  Premier League   \n",
       "\n",
       "                                               image  \\\n",
       "5  https://cdn.footystats.org/img/competitions/en...   \n",
       "\n",
       "                                              season  \n",
       "5  [{'id': 9, 'year': 20162017}, {'id': 10, 'year...  "
      ]
     },
     "execution_count": 5,
     "metadata": {},
     "output_type": "execute_result"
    }
   ],
   "source": [
    "league = pd.DataFrame(client.get_league_list()).query(\"league_name == 'Premier League'\")\n",
    "league"
   ]
  },
  {
   "cell_type": "code",
   "execution_count": 6,
   "metadata": {},
   "outputs": [],
   "source": [
    "def convert_year_format(data):\n",
    "    \"\"\"\n",
    "    Convert the year from integer format to a string separated by a -\n",
    "\n",
    "    Parameters:\n",
    "    data: List of dictionaries containing id and year\n",
    "\n",
    "    Returns:\n",
    "    Data with the year converted to the new format\n",
    "    \"\"\"\n",
    "    for item in data:\n",
    "        year_str = str(item['year'])\n",
    "        formatted_year = f\"{year_str[:4]}-{year_str[4:]}\"\n",
    "        item['year'] = formatted_year\n",
    "\n",
    "    return data"
   ]
  },
  {
   "cell_type": "code",
   "execution_count": 7,
   "metadata": {},
   "outputs": [
    {
     "data": {
      "text/plain": [
       "[{'id': 3137, 'year': '2007-2008'},\n",
       " {'id': 3131, 'year': '2008-2009'},\n",
       " {'id': 3125, 'year': '2009-2010'},\n",
       " {'id': 3121, 'year': '2010-2011'},\n",
       " {'id': 3119, 'year': '2011-2012'},\n",
       " {'id': 246, 'year': '2012-2013'},\n",
       " {'id': 12, 'year': '2013-2014'},\n",
       " {'id': 11, 'year': '2014-2015'},\n",
       " {'id': 10, 'year': '2015-2016'},\n",
       " {'id': 9, 'year': '2016-2017'},\n",
       " {'id': 161, 'year': '2017-2018'},\n",
       " {'id': 1625, 'year': '2018-2019'},\n",
       " {'id': 2012, 'year': '2019-2020'},\n",
       " {'id': 4759, 'year': '2020-2021'},\n",
       " {'id': 6135, 'year': '2021-2022'},\n",
       " {'id': 7704, 'year': '2022-2023'},\n",
       " {'id': 9660, 'year': '2023-2024'}]"
      ]
     },
     "execution_count": 7,
     "metadata": {},
     "output_type": "execute_result"
    }
   ],
   "source": [
    "pml_seasons = sorted(league[\"season\"].to_list()[0], key=lambda x: x[\"year\"])\n",
    "convert_year_format(pml_seasons)"
   ]
  },
  {
   "cell_type": "code",
   "execution_count": 8,
   "metadata": {},
   "outputs": [],
   "source": [
    "MATCH_FEATURES = [\"homeID\", \"awayID\", \"date_unix\", \"winningTeam\", \"homeGoalCount\", \"awayGoalCount\", \"team_a_shotsOnTarget\", \"team_b_shotsOnTarget\", \"team_a_shots\", \"team_b_shots\", \"team_a_possession\", \"team_b_possession\",\n",
    "                  \"pre_match_home_ppg\", \"pre_match_away_ppg\", \"pre_match_teamA_overall_ppg\", \"pre_match_teamB_overall_ppg\", \"o15_potential\", \"o25_potential\", \"o35_potential\", \"o45_potential\"]"
   ]
  },
  {
   "cell_type": "markdown",
   "metadata": {},
   "source": [
    "#### TODO: FIilter status completed and sort by date_unix "
   ]
  },
  {
   "cell_type": "code",
   "execution_count": 27,
   "metadata": {
    "collapsed": false,
    "pycharm": {
     "name": "#%%\n"
    }
   },
   "outputs": [
    {
     "data": {
      "text/html": [
       "<div>\n",
       "<style scoped>\n",
       "    .dataframe tbody tr th:only-of-type {\n",
       "        vertical-align: middle;\n",
       "    }\n",
       "\n",
       "    .dataframe tbody tr th {\n",
       "        vertical-align: top;\n",
       "    }\n",
       "\n",
       "    .dataframe thead th {\n",
       "        text-align: right;\n",
       "    }\n",
       "</style>\n",
       "<table border=\"1\" class=\"dataframe\">\n",
       "  <thead>\n",
       "    <tr style=\"text-align: right;\">\n",
       "      <th></th>\n",
       "      <th>id</th>\n",
       "      <th>homeID</th>\n",
       "      <th>awayID</th>\n",
       "      <th>season</th>\n",
       "      <th>status</th>\n",
       "      <th>roundID</th>\n",
       "      <th>game_week</th>\n",
       "      <th>revised_game_week</th>\n",
       "      <th>homeGoals</th>\n",
       "      <th>awayGoals</th>\n",
       "      <th>...</th>\n",
       "      <th>match_url</th>\n",
       "      <th>competition_id</th>\n",
       "      <th>matches_completed_minimum</th>\n",
       "      <th>over05</th>\n",
       "      <th>over15</th>\n",
       "      <th>over25</th>\n",
       "      <th>over35</th>\n",
       "      <th>over45</th>\n",
       "      <th>over55</th>\n",
       "      <th>btts</th>\n",
       "    </tr>\n",
       "  </thead>\n",
       "  <tbody>\n",
       "    <tr>\n",
       "      <th>0</th>\n",
       "      <td>1056406</td>\n",
       "      <td>145</td>\n",
       "      <td>149</td>\n",
       "      <td>2020/2021</td>\n",
       "      <td>complete</td>\n",
       "      <td>58864</td>\n",
       "      <td>1</td>\n",
       "      <td>-1</td>\n",
       "      <td>[]</td>\n",
       "      <td>[71]</td>\n",
       "      <td>...</td>\n",
       "      <td>/england/burnley-fc-vs-manchester-united-fc-h2...</td>\n",
       "      <td>4759</td>\n",
       "      <td>38</td>\n",
       "      <td>True</td>\n",
       "      <td>False</td>\n",
       "      <td>False</td>\n",
       "      <td>False</td>\n",
       "      <td>False</td>\n",
       "      <td>False</td>\n",
       "      <td>False</td>\n",
       "    </tr>\n",
       "    <tr>\n",
       "      <th>1</th>\n",
       "      <td>1056407</td>\n",
       "      <td>143</td>\n",
       "      <td>146</td>\n",
       "      <td>2020/2021</td>\n",
       "      <td>complete</td>\n",
       "      <td>58864</td>\n",
       "      <td>1</td>\n",
       "      <td>-1</td>\n",
       "      <td>[13]</td>\n",
       "      <td>[]</td>\n",
       "      <td>...</td>\n",
       "      <td>/england/crystal-palace-fc-vs-southampton-fc-h...</td>\n",
       "      <td>4759</td>\n",
       "      <td>38</td>\n",
       "      <td>True</td>\n",
       "      <td>False</td>\n",
       "      <td>False</td>\n",
       "      <td>False</td>\n",
       "      <td>False</td>\n",
       "      <td>False</td>\n",
       "      <td>False</td>\n",
       "    </tr>\n",
       "    <tr>\n",
       "      <th>2</th>\n",
       "      <td>1056408</td>\n",
       "      <td>162</td>\n",
       "      <td>59</td>\n",
       "      <td>2020/2021</td>\n",
       "      <td>complete</td>\n",
       "      <td>58864</td>\n",
       "      <td>1</td>\n",
       "      <td>-1</td>\n",
       "      <td>[]</td>\n",
       "      <td>[8, 49, 57]</td>\n",
       "      <td>...</td>\n",
       "      <td>/england/arsenal-fc-vs-fulham-fc-h2h-stats#105...</td>\n",
       "      <td>4759</td>\n",
       "      <td>38</td>\n",
       "      <td>True</td>\n",
       "      <td>True</td>\n",
       "      <td>True</td>\n",
       "      <td>False</td>\n",
       "      <td>False</td>\n",
       "      <td>False</td>\n",
       "      <td>False</td>\n",
       "    </tr>\n",
       "  </tbody>\n",
       "</table>\n",
       "<p>3 rows × 213 columns</p>\n",
       "</div>"
      ],
      "text/plain": [
       "        id  homeID  awayID     season    status  roundID  game_week  \\\n",
       "0  1056406     145     149  2020/2021  complete    58864          1   \n",
       "1  1056407     143     146  2020/2021  complete    58864          1   \n",
       "2  1056408     162      59  2020/2021  complete    58864          1   \n",
       "\n",
       "   revised_game_week homeGoals    awayGoals  ...  \\\n",
       "0                 -1        []         [71]  ...   \n",
       "1                 -1      [13]           []  ...   \n",
       "2                 -1        []  [8, 49, 57]  ...   \n",
       "\n",
       "                                           match_url  competition_id  \\\n",
       "0  /england/burnley-fc-vs-manchester-united-fc-h2...            4759   \n",
       "1  /england/crystal-palace-fc-vs-southampton-fc-h...            4759   \n",
       "2  /england/arsenal-fc-vs-fulham-fc-h2h-stats#105...            4759   \n",
       "\n",
       "   matches_completed_minimum  over05  over15  over25  over35  over45  over55  \\\n",
       "0                         38    True   False   False   False   False   False   \n",
       "1                         38    True   False   False   False   False   False   \n",
       "2                         38    True    True    True   False   False   False   \n",
       "\n",
       "    btts  \n",
       "0  False  \n",
       "1  False  \n",
       "2  False  \n",
       "\n",
       "[3 rows x 213 columns]"
      ]
     },
     "execution_count": 27,
     "metadata": {},
     "output_type": "execute_result"
    }
   ],
   "source": [
    "raw_matches = pd.DataFrame(client.get_league_matches(4759))\n",
    "raw_matches.head(3)"
   ]
  },
  {
   "cell_type": "code",
   "execution_count": 28,
   "metadata": {},
   "outputs": [
    {
     "data": {
      "text/plain": [
       "['Arsenal',\n",
       " 'Aston Villa',\n",
       " 'Brighton & Hove Albion',\n",
       " 'Burnley',\n",
       " 'Chelsea',\n",
       " 'Crystal Palace',\n",
       " 'Everton',\n",
       " 'Fulham',\n",
       " 'Leeds United',\n",
       " 'Leicester City',\n",
       " 'Liverpool',\n",
       " 'Manchester City',\n",
       " 'Manchester United',\n",
       " 'Newcastle United',\n",
       " 'Sheffield United',\n",
       " 'Southampton',\n",
       " 'Tottenham Hotspur',\n",
       " 'West Bromwich Albion',\n",
       " 'West Ham United',\n",
       " 'Wolverhampton Wanderers']"
      ]
     },
     "execution_count": 28,
     "metadata": {},
     "output_type": "execute_result"
    }
   ],
   "source": [
    "sorted(raw_matches[\"away_name\"].unique())"
   ]
  },
  {
   "cell_type": "code",
   "execution_count": 26,
   "metadata": {},
   "outputs": [
    {
     "data": {
      "text/plain": [
       "['Arsenal',\n",
       " 'Aston Villa',\n",
       " 'Chelsea',\n",
       " 'Everton',\n",
       " 'Fulham',\n",
       " 'Liverpool',\n",
       " 'Manchester City',\n",
       " 'Manchester United',\n",
       " 'Newcastle United',\n",
       " 'Norwich City',\n",
       " 'Queens Park Rangers',\n",
       " 'Reading',\n",
       " 'Southampton',\n",
       " 'Stoke City',\n",
       " 'Sunderland',\n",
       " 'Swansea City',\n",
       " 'Tottenham Hotspur',\n",
       " 'West Bromwich Albion',\n",
       " 'West Ham United',\n",
       " 'Wigan Athletic']"
      ]
     },
     "execution_count": 26,
     "metadata": {},
     "output_type": "execute_result"
    }
   ],
   "source": [
    "sorted(raw_matches[\"away_name\"].unique())"
   ]
  },
  {
   "cell_type": "code",
   "execution_count": 12,
   "metadata": {},
   "outputs": [],
   "source": [
    "raw_matches.to_csv('/Users/charaka/Desktop/raw_matches.csv', index=False)"
   ]
  },
  {
   "cell_type": "code",
   "execution_count": 82,
   "metadata": {},
   "outputs": [],
   "source": [
    "rename_cols = {\n",
    "    'homeID': 'HomeTeam',\n",
    "    'awayID': 'AwayTeam',\n",
    "    'homeGoalCount': 'FTHG',\n",
    "    'awayGoalCount': 'FTAG',\n",
    "    'team_a_shotsOnTarget': 'HST',\n",
    "    'team_b_shotsOnTarget': 'AST',\n",
    "    'team_a_shots': 'HS',\n",
    "    'team_b_shots': 'AS',\n",
    "    'team_a_possession': 'HPOSS',\n",
    "    'team_b_possession': 'APOSS',\n",
    "}"
   ]
  },
  {
   "cell_type": "code",
   "execution_count": 83,
   "metadata": {},
   "outputs": [],
   "source": [
    "matches = raw_matches[MATCH_FEATURES].sort_values('date_unix')\n",
    "matches['Date'] = pd.to_datetime(matches['date_unix'], unit='s')\n",
    "matches['FTR'] = matches.apply(lambda row: 'H' if row['winningTeam'] == row['homeID'] else ('A' if row['winningTeam'] == row['awayID'] else 'D'), axis=1)\n",
    "cols_to_drop = ['date_unix', 'winningTeam']\n",
    "matches = matches.drop(cols_to_drop, axis=1)\n",
    "matches = matches.rename(columns=rename_cols)"
   ]
  },
  {
   "cell_type": "code",
   "execution_count": 84,
   "metadata": {},
   "outputs": [
    {
     "data": {
      "text/html": [
       "<div>\n",
       "<style scoped>\n",
       "    .dataframe tbody tr th:only-of-type {\n",
       "        vertical-align: middle;\n",
       "    }\n",
       "\n",
       "    .dataframe tbody tr th {\n",
       "        vertical-align: top;\n",
       "    }\n",
       "\n",
       "    .dataframe thead th {\n",
       "        text-align: right;\n",
       "    }\n",
       "</style>\n",
       "<table border=\"1\" class=\"dataframe\">\n",
       "  <thead>\n",
       "    <tr style=\"text-align: right;\">\n",
       "      <th></th>\n",
       "      <th>HomeTeam</th>\n",
       "      <th>AwayTeam</th>\n",
       "      <th>FTHG</th>\n",
       "      <th>FTAG</th>\n",
       "      <th>HST</th>\n",
       "      <th>AST</th>\n",
       "      <th>HS</th>\n",
       "      <th>AS</th>\n",
       "      <th>HPOSS</th>\n",
       "      <th>APOSS</th>\n",
       "      <th>pre_match_home_ppg</th>\n",
       "      <th>pre_match_away_ppg</th>\n",
       "      <th>pre_match_teamA_overall_ppg</th>\n",
       "      <th>pre_match_teamB_overall_ppg</th>\n",
       "      <th>o15_potential</th>\n",
       "      <th>o25_potential</th>\n",
       "      <th>o35_potential</th>\n",
       "      <th>o45_potential</th>\n",
       "      <th>Date</th>\n",
       "      <th>FTR</th>\n",
       "    </tr>\n",
       "  </thead>\n",
       "  <tbody>\n",
       "    <tr>\n",
       "      <th>375</th>\n",
       "      <td>154</td>\n",
       "      <td>162</td>\n",
       "      <td>0</td>\n",
       "      <td>3</td>\n",
       "      <td>12</td>\n",
       "      <td>7</td>\n",
       "      <td>20</td>\n",
       "      <td>9</td>\n",
       "      <td>48</td>\n",
       "      <td>52</td>\n",
       "      <td>1.44</td>\n",
       "      <td>0.89</td>\n",
       "      <td>1.24</td>\n",
       "      <td>1.08</td>\n",
       "      <td>73</td>\n",
       "      <td>59</td>\n",
       "      <td>36</td>\n",
       "      <td>14</td>\n",
       "      <td>2013-05-19 15:00:00</td>\n",
       "      <td>A</td>\n",
       "    </tr>\n",
       "    <tr>\n",
       "      <th>376</th>\n",
       "      <td>92</td>\n",
       "      <td>156</td>\n",
       "      <td>1</td>\n",
       "      <td>0</td>\n",
       "      <td>21</td>\n",
       "      <td>4</td>\n",
       "      <td>25</td>\n",
       "      <td>6</td>\n",
       "      <td>48</td>\n",
       "      <td>52</td>\n",
       "      <td>1.94</td>\n",
       "      <td>0.89</td>\n",
       "      <td>1.86</td>\n",
       "      <td>1.05</td>\n",
       "      <td>78</td>\n",
       "      <td>64</td>\n",
       "      <td>31</td>\n",
       "      <td>9</td>\n",
       "      <td>2013-05-19 15:00:00</td>\n",
       "      <td>H</td>\n",
       "    </tr>\n",
       "    <tr>\n",
       "      <th>377</th>\n",
       "      <td>142</td>\n",
       "      <td>149</td>\n",
       "      <td>5</td>\n",
       "      <td>5</td>\n",
       "      <td>7</td>\n",
       "      <td>7</td>\n",
       "      <td>22</td>\n",
       "      <td>17</td>\n",
       "      <td>32</td>\n",
       "      <td>68</td>\n",
       "      <td>1.67</td>\n",
       "      <td>2.22</td>\n",
       "      <td>1.30</td>\n",
       "      <td>2.38</td>\n",
       "      <td>78</td>\n",
       "      <td>56</td>\n",
       "      <td>28</td>\n",
       "      <td>20</td>\n",
       "      <td>2013-05-19 15:00:00</td>\n",
       "      <td>D</td>\n",
       "    </tr>\n",
       "    <tr>\n",
       "      <th>378</th>\n",
       "      <td>153</td>\n",
       "      <td>219</td>\n",
       "      <td>4</td>\n",
       "      <td>2</td>\n",
       "      <td>13</td>\n",
       "      <td>8</td>\n",
       "      <td>22</td>\n",
       "      <td>18</td>\n",
       "      <td>55</td>\n",
       "      <td>45</td>\n",
       "      <td>1.67</td>\n",
       "      <td>0.44</td>\n",
       "      <td>1.16</td>\n",
       "      <td>0.76</td>\n",
       "      <td>73</td>\n",
       "      <td>59</td>\n",
       "      <td>39</td>\n",
       "      <td>20</td>\n",
       "      <td>2013-05-19 15:00:00</td>\n",
       "      <td>H</td>\n",
       "    </tr>\n",
       "    <tr>\n",
       "      <th>379</th>\n",
       "      <td>221</td>\n",
       "      <td>158</td>\n",
       "      <td>2</td>\n",
       "      <td>2</td>\n",
       "      <td>8</td>\n",
       "      <td>6</td>\n",
       "      <td>14</td>\n",
       "      <td>8</td>\n",
       "      <td>57</td>\n",
       "      <td>43</td>\n",
       "      <td>0.94</td>\n",
       "      <td>1.11</td>\n",
       "      <td>0.95</td>\n",
       "      <td>1.08</td>\n",
       "      <td>86</td>\n",
       "      <td>73</td>\n",
       "      <td>50</td>\n",
       "      <td>20</td>\n",
       "      <td>2013-05-19 15:00:00</td>\n",
       "      <td>D</td>\n",
       "    </tr>\n",
       "  </tbody>\n",
       "</table>\n",
       "</div>"
      ],
      "text/plain": [
       "     HomeTeam  AwayTeam  FTHG  FTAG  HST  AST  HS  AS  HPOSS  APOSS  \\\n",
       "375       154       162     0     3   12    7  20   9     48     52   \n",
       "376        92       156     1     0   21    4  25   6     48     52   \n",
       "377       142       149     5     5    7    7  22  17     32     68   \n",
       "378       153       219     4     2   13    8  22  18     55     45   \n",
       "379       221       158     2     2    8    6  14   8     57     43   \n",
       "\n",
       "     pre_match_home_ppg  pre_match_away_ppg  pre_match_teamA_overall_ppg  \\\n",
       "375                1.44                0.89                         1.24   \n",
       "376                1.94                0.89                         1.86   \n",
       "377                1.67                2.22                         1.30   \n",
       "378                1.67                0.44                         1.16   \n",
       "379                0.94                1.11                         0.95   \n",
       "\n",
       "     pre_match_teamB_overall_ppg  o15_potential  o25_potential  o35_potential  \\\n",
       "375                         1.08             73             59             36   \n",
       "376                         1.05             78             64             31   \n",
       "377                         2.38             78             56             28   \n",
       "378                         0.76             73             59             39   \n",
       "379                         1.08             86             73             50   \n",
       "\n",
       "     o45_potential                Date FTR  \n",
       "375             14 2013-05-19 15:00:00   A  \n",
       "376              9 2013-05-19 15:00:00   H  \n",
       "377             20 2013-05-19 15:00:00   D  \n",
       "378             20 2013-05-19 15:00:00   H  \n",
       "379             20 2013-05-19 15:00:00   D  "
      ]
     },
     "execution_count": 84,
     "metadata": {},
     "output_type": "execute_result"
    }
   ],
   "source": [
    "matches.tail(5)"
   ]
  },
  {
   "cell_type": "code",
   "execution_count": 13,
   "metadata": {},
   "outputs": [],
   "source": [
    "MATCH_FEATURES = [\"homeID\", \"awayID\", \"home_name\", \"away_name\", \"date_unix\", \"winningTeam\", \"homeGoalCount\", \"awayGoalCount\", \"team_a_shotsOnTarget\", \"team_b_shotsOnTarget\", \"team_a_shots\", \"team_b_shots\", \"team_a_possession\", \"team_b_possession\",\n",
    "                  \"pre_match_home_ppg\", \"pre_match_away_ppg\", \"pre_match_teamA_overall_ppg\", \"pre_match_teamB_overall_ppg\", \"o15_potential\", \"o25_potential\", \"o35_potential\", \"o45_potential\"]"
   ]
  },
  {
   "cell_type": "code",
   "execution_count": 14,
   "metadata": {},
   "outputs": [],
   "source": [
    "rename_cols = {\n",
    "    'home_name': 'HomeTeam',\n",
    "    'away_name': 'AwayTeam',\n",
    "    'homeGoalCount': 'FTHG',\n",
    "    'awayGoalCount': 'FTAG',\n",
    "    'team_a_shotsOnTarget': 'HST',\n",
    "    'team_b_shotsOnTarget': 'AST',\n",
    "    'team_a_shots': 'HS',\n",
    "    'team_b_shots': 'AS',\n",
    "    'team_a_possession': 'HPOSS',\n",
    "    'team_b_possession': 'APOSS',\n",
    "}\n",
    "\n",
    "cols_to_drop = ['date_unix', 'winningTeam']"
   ]
  },
  {
   "cell_type": "code",
   "execution_count": 37,
   "metadata": {},
   "outputs": [],
   "source": [
    "import os\n",
    "\n",
    "# Root folder path\n",
    "folder_path = \"/Users/charaka/Desktop/University/Msc Machine Learning & Data Science/Masters Project/footystats-data\"\n",
    "\n",
    "teams = []\n",
    "# Loop through the list\n",
    "for season in pml_seasons[3:]:\n",
    "    # Create a new folder for the year\n",
    "    year = season['year']\n",
    "    id = season['id']\n",
    "\n",
    "    current_teams = pd.DataFrame(client.get_league_teams(id))\n",
    "    teams += current_teams['cleanName'].unique().tolist()"
   ]
  },
  {
   "cell_type": "code",
   "execution_count": 44,
   "metadata": {},
   "outputs": [
    {
     "data": {
      "text/plain": [
       "40"
      ]
     },
     "execution_count": 44,
     "metadata": {},
     "output_type": "execute_result"
    }
   ],
   "source": [
    "len(pd.unique(teams))"
   ]
  },
  {
   "cell_type": "code",
   "execution_count": 36,
   "metadata": {},
   "outputs": [
    {
     "data": {
      "text/plain": [
       "array(['Arsenal', 'Tottenham Hotspur', 'Manchester City', 'Stoke City',\n",
       "       'West Bromwich Albion', 'Everton', 'Southampton',\n",
       "       'Manchester United', 'Liverpool', 'Chelsea', 'West Ham United',\n",
       "       'Swansea City', 'Sunderland', 'Newcastle United', 'Aston Villa',\n",
       "       'Norwich City', 'Queens Park Rangers', 'Fulham', 'Reading',\n",
       "       'Wigan Athletic'], dtype=object)"
      ]
     },
     "execution_count": 36,
     "metadata": {},
     "output_type": "execute_result"
    }
   ],
   "source": [
    "pd.unique(pd.unique(teams[\"cleanName\"]).tolist() + pd.unique(teams[\"cleanName\"]).tolist())"
   ]
  },
  {
   "cell_type": "code",
   "execution_count": 15,
   "metadata": {},
   "outputs": [],
   "source": [
    "import os\n",
    "\n",
    "# Root folder path\n",
    "folder_path = \"/Users/charaka/Desktop/University/Msc Machine Learning & Data Science/Masters Project/footystats-data\"\n",
    "\n",
    "# Loop through the list\n",
    "for season in pml_seasons[3:]:\n",
    "    # Create a new folder for the year\n",
    "    year = season['year']\n",
    "    id = season['id']\n",
    "\n",
    "    new_folder_path = os.path.join(folder_path, season['year'])\n",
    "    os.makedirs(new_folder_path, exist_ok=True)\n",
    "\n",
    "    raw_matches = pd.DataFrame(client.get_league_matches(id))\n",
    "    raw_matches = raw_matches[raw_matches['status'] == 'complete']\n",
    "\n",
    "    matches = raw_matches[MATCH_FEATURES].sort_values('date_unix')\n",
    "    \n",
    "    matches['Date'] = pd.to_datetime(matches['date_unix'], unit='s')\n",
    "    matches['FTR'] = matches.apply(lambda row: 'H' if row['winningTeam'] == row['homeID'] else ('A' if row['winningTeam'] == row['awayID'] else 'D'), axis=1)\n",
    "    \n",
    "    matches = matches.drop(cols_to_drop, axis=1)\n",
    "    matches = matches.rename(columns=rename_cols)\n",
    "\n",
    "    # Save the DataFrame as a CSV file in the new folder\n",
    "    matches.to_csv(os.path.join(new_folder_path, \"E0.csv\"), index=False)\n"
   ]
  },
  {
   "cell_type": "code",
   "execution_count": null,
   "metadata": {},
   "outputs": [],
   "source": []
  }
 ],
 "metadata": {
  "kernelspec": {
   "display_name": "Python 3",
   "language": "python",
   "name": "python3"
  },
  "language_info": {
   "codemirror_mode": {
    "name": "ipython",
    "version": 3
   },
   "file_extension": ".py",
   "mimetype": "text/x-python",
   "name": "python",
   "nbconvert_exporter": "python",
   "pygments_lexer": "ipython3",
   "version": "3.8.17"
  }
 },
 "nbformat": 4,
 "nbformat_minor": 0
}
