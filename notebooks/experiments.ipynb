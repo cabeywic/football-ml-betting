{
 "cells": [
  {
   "cell_type": "code",
   "execution_count": 1,
   "metadata": {},
   "outputs": [
    {
     "name": "stderr",
     "output_type": "stream",
     "text": [
      "/Users/charaka/opt/anaconda3/envs/digital_finance/lib/python3.8/site-packages/scipy/__init__.py:146: UserWarning: A NumPy version >=1.16.5 and <1.23.0 is required for this version of SciPy (detected version 1.24.3\n",
      "  warnings.warn(f\"A NumPy version >={np_minversion} and <{np_maxversion}\"\n"
     ]
    }
   ],
   "source": [
    "import logging\n",
    "from piny import YamlLoader\n",
    "import sys\n",
    "from sklearn.preprocessing import LabelEncoder\n",
    "from sklearn.model_selection import train_test_split\n",
    "from sklearn.svm import SVC\n",
    "from sklearn.neighbors import KNeighborsClassifier\n",
    "from sklearn.ensemble import RandomForestClassifier\n",
    "from sklearn.linear_model import LogisticRegression\n",
    "from sklearn.naive_bayes import GaussianNB\n",
    "from sklearn.ensemble import GradientBoostingClassifier"
   ]
  },
  {
   "cell_type": "code",
   "execution_count": 2,
   "metadata": {},
   "outputs": [],
   "source": [
    "import seaborn as sns\n",
    "import matplotlib.pyplot as plt"
   ]
  },
  {
   "cell_type": "code",
   "execution_count": 3,
   "metadata": {},
   "outputs": [],
   "source": [
    "sys.path.append(\"../src\")"
   ]
  },
  {
   "cell_type": "code",
   "execution_count": 4,
   "metadata": {},
   "outputs": [],
   "source": [
    "from utils import setup_logging\n",
    "from data.loader.football_data import FootballData\n",
    "from data.feature import EloRatingGenerator, WinStreakGenerator, GapRatingGenerator, PiRatingGenerator\n",
    "from models.classifier_comparison import ClassifierComparison\n",
    "from strategy import KellyCriterionStrategy, FixedFractionalStrategy, FractionalKellyCriterionStrategy, ConfidenceThresholdStrategy, DynamicFractionalKellyCriterionStrategy"
   ]
  },
  {
   "cell_type": "markdown",
   "metadata": {},
   "source": [
    "### Setting up Environment "
   ]
  },
  {
   "cell_type": "code",
   "execution_count": 5,
   "metadata": {},
   "outputs": [
    {
     "name": "stdout",
     "output_type": "stream",
     "text": [
      "Loading config file...\n",
      "Loading football data...\n"
     ]
    },
    {
     "name": "stderr",
     "output_type": "stream",
     "text": [
      "/Users/charaka/Desktop/Projects/value-sports-betting/notebooks/../src/utils.py:22: FutureWarning: The pandas.datetime class is deprecated and will be removed from pandas in a future version. Import from datetime module instead.\n",
      "  return pd.datetime.strptime(date_str, fmt)\n",
      "/Users/charaka/Desktop/Projects/value-sports-betting/notebooks/../src/utils.py:22: FutureWarning: The pandas.datetime class is deprecated and will be removed from pandas in a future version. Import from datetime module instead.\n",
      "  return pd.datetime.strptime(date_str, fmt)\n",
      "/Users/charaka/Desktop/Projects/value-sports-betting/notebooks/../src/utils.py:22: FutureWarning: The pandas.datetime class is deprecated and will be removed from pandas in a future version. Import from datetime module instead.\n",
      "  return pd.datetime.strptime(date_str, fmt)\n"
     ]
    }
   ],
   "source": [
    "print(\"Loading config file...\")\n",
    "config = YamlLoader(path=\"../src/config/config.yaml\").load()\n",
    "FOOTBALL_DATA_CONFIG = config[\"data\"]\n",
    "COLUMNS = ['Div', 'Date', 'HomeTeam', 'AwayTeam', 'FTHG', 'FTAG', 'FTR', 'HTHG', 'HTAG', 'HS', 'AS', 'HST', 'AST', 'HF', 'AF', 'HC', 'AC', 'HY', 'AY', 'HR', 'AR', 'B365H', 'B365D', 'B365A', 'BWH', 'BWD', 'BWA', 'IWH', 'IWD', 'IWA']\n",
    "\n",
    "print(\"Loading football data...\")\n",
    "football_dataset = FootballData.load(**FOOTBALL_DATA_CONFIG, columns=COLUMNS)"
   ]
  },
  {
   "cell_type": "markdown",
   "metadata": {},
   "source": [
    "### Generating the features "
   ]
  },
  {
   "cell_type": "code",
   "execution_count": 6,
   "metadata": {},
   "outputs": [],
   "source": [
    "elo_rating_generator = EloRatingGenerator()\n",
    "win_streak_generator = WinStreakGenerator()\n",
    "gap_rating_generator = GapRatingGenerator(input_features=[(\"FTHG\", \"FTAG\"), (\"HC\", \"AC\")])\n",
    "pi_rating_generator = PiRatingGenerator()\n",
    "\n",
    "football_dataset.compute_features([elo_rating_generator, win_streak_generator, gap_rating_generator, pi_rating_generator])\n",
    "\n",
    "label_encoder = LabelEncoder()\n",
    "feature_columns = ['HomeEloBefore', 'AwayEloBefore', 'B365H', 'B365A', 'B365D', 'BWH', 'BWD', 'BWA', 'IWH', 'IWD', 'IWA', 'HomeGapAttackBefore', \n",
    "                'HomeGapDefendBefore', 'AwayGapAttackBefore', 'AwayGapDefendBefore','HomeStreakBefore', 'AwayStreakBefore', 'HomePiBefore', 'AwayPiBefore']\n",
    "\n",
    "division = football_dataset.divisions['E0']"
   ]
  },
  {
   "cell_type": "markdown",
   "metadata": {},
   "source": [
    "### Prepairing the dataframe"
   ]
  },
  {
   "cell_type": "code",
   "execution_count": 7,
   "metadata": {},
   "outputs": [
    {
     "name": "stdout",
     "output_type": "stream",
     "text": [
      "Preparing dataset\n",
      "Splitting data into train and test sets\n"
     ]
    },
    {
     "name": "stderr",
     "output_type": "stream",
     "text": [
      "/var/folders/7r/wl3x6jwx2912f_7n3sv274kh0000gn/T/ipykernel_97272/2446055856.py:4: SettingWithCopyWarning: \n",
      "A value is trying to be set on a copy of a slice from a DataFrame.\n",
      "Try using .loc[row_indexer,col_indexer] = value instead\n",
      "\n",
      "See the caveats in the documentation: https://pandas.pydata.org/pandas-docs/stable/user_guide/indexing.html#returning-a-view-versus-a-copy\n",
      "  df['FTR'] = label_encoder.fit_transform(df['FTR'])\n"
     ]
    }
   ],
   "source": [
    "print(\"Preparing dataset\")\n",
    "df = division.dataframe\n",
    "df = df.dropna(subset=feature_columns)\n",
    "df['FTR'] = label_encoder.fit_transform(df['FTR'])\n",
    "\n",
    "# model_features = ['HomePiBefore', 'AwayPiBefore', 'B365H', 'B365A', 'B365D', 'BWH', 'BWD', 'BWA', 'IWH', 'IWD', 'IWA']\n",
    "# model_features = ['HomeEloBefore', 'AwayEloBefore','HomeStreakBefore', 'AwayStreakBefore', 'B365H', 'B365A', 'B365D', 'BWH', 'BWD', 'BWA', 'IWH', 'IWD', 'IWA']\n",
    "model_features = ['HomeGapAttackBefore', 'HomeGapDefendBefore', 'AwayGapAttackBefore', 'AwayGapDefendBefore', 'B365H', 'B365A', 'B365D', 'BWH', 'BWD', 'BWA', 'IWH', 'IWD', 'IWA']\n",
    "X = df[model_features]\n",
    "y = df['FTR']\n",
    "\n",
    "# Split the data into train and test sets\n",
    "print(\"Splitting data into train and test sets\")\n",
    "X_train, X_test, y_train, y_test = train_test_split(X, y, test_size=0.2, random_state=42)"
   ]
  },
  {
   "cell_type": "markdown",
   "metadata": {},
   "source": [
    "### Building and comparing models"
   ]
  },
  {
   "cell_type": "code",
   "execution_count": 8,
   "metadata": {},
   "outputs": [],
   "source": [
    "from sklearn.metrics import log_loss\n",
    "import numpy as np"
   ]
  },
  {
   "cell_type": "markdown",
   "metadata": {},
   "source": [
    "### Use of Log-loss for evaluation of classification models\n",
    "\n",
    "In the context of sports betting, where we are predicting the outcomes of football matches, log-loss serves as an ideal performance metric for several reasons. Primarily, in a betting environment, the prediction of the outcome is not simply a binary or multi-class problem, but rather the confidence in the predicted outcome also holds significant importance. This is because the stakes on a bet are often determined by the confidence in the predicted outcome.\n",
    "\n",
    "The log-loss metric precisely quantifies this by evaluating not just the predicted class, but the probabilities associated with each predicted class. By doing so, it provides a more comprehensive view of the model's performance by considering both the accuracy of the predictions and the confidence in each prediction.\n",
    "\n",
    "One of the key advantages of log-loss in the sports betting context is that it promotes well-calibrated probabilities. In other words, it rewards the models that are able to correctly estimate the true underlying probabilities of the outcomes. This attribute is critical in betting where the profitability of a betting strategy is not just determined by predicting the correct outcome, but also correctly estimating the odds.\n",
    "\n",
    "Furthermore, log-loss penalises models that make confident yet incorrect predictions. This characteristic is particularly beneficial in a betting scenario, as overconfident predictions can lead to large losses. A model that is less confident and predicts probabilities close to 0.5 for all outcomes will often achieve a better log-loss score than a model that makes confident but incorrect predictions.\n",
    "\n",
    "Therefore, when developing models for a betting strategy, using log-loss as the optimisation metric is an appropriate choice. It encourages the model to make well-calibrated and cautious predictions, which aligns with the overall goal of maximising the profitability of the betting strategy."
   ]
  },
  {
   "cell_type": "code",
   "execution_count": 9,
   "metadata": {},
   "outputs": [
    {
     "data": {
      "image/png": "[encoded data removed]",
      "text/plain": [
       "<Figure size 1200x600 with 1 Axes>"
      ]
     },
     "metadata": {},
     "output_type": "display_data"
    },
    {
     "name": "stdout",
     "output_type": "stream",
     "text": [
      "Scores: {'Random Forest': 1.0170468527571122, 'KNN': 6.053549088254653, 'Logistic Regression': 0.9710916622131561, 'Naive Bayes': 2.6341865472600645, 'Gradient Boosting': 1.0136263840754036}\n",
      "Best classifier: Logistic Regression | Score: 0.97\n"
     ]
    }
   ],
   "source": [
    "classifiers = {\n",
    "    'Random Forest': RandomForestClassifier(n_estimators=100, random_state=42),\n",
    "    # 'SVC': make_pipeline(StandardScaler(), SVC()),\n",
    "    'KNN': KNeighborsClassifier(n_neighbors=5),\n",
    "    'Logistic Regression': LogisticRegression(max_iter=500),\n",
    "    'Naive Bayes': GaussianNB(),\n",
    "    'Gradient Boosting': GradientBoostingClassifier(random_state=42)\n",
    "}\n",
    "\n",
    "classifier_comparison = ClassifierComparison(classifiers)\n",
    "labels = np.unique(y_test)\n",
    "classifier_comparison.fit_and_score(X_train, y_train, X_test, y_test, score_func=log_loss, labels=labels)\n",
    "classifier_comparison.plot_scores()\n",
    "best_classifier = classifier_comparison.best_classifier(greater_is_better=False)\n",
    "print(f\"Scores: {classifier_comparison.scores}\")\n",
    "print(f\"Best classifier: {best_classifier} | Score: {classifier_comparison.scores[best_classifier]:.2f}\")"
   ]
  },
  {
   "cell_type": "markdown",
   "metadata": {},
   "source": [
    "#### ⚠️ **Lower log-loss the better the model**"
   ]
  },
  {
   "cell_type": "code",
   "execution_count": 65,
   "metadata": {},
   "outputs": [
    {
     "name": "stdout",
     "output_type": "stream",
     "text": [
      "Starting bankroll: 1000\n",
      "Ending bankroll: 2580.6651968365\n"
     ]
    },
    {
     "data": {
      "image/png": "[encoded data removed]",
      "text/plain": [
       "<Figure size 640x480 with 1 Axes>"
      ]
     },
     "metadata": {},
     "output_type": "display_data"
    }
   ],
   "source": [
    "classifier_name = best_classifier\n",
    "classifier = classifiers[classifier_name]\n",
    "\n",
    "# strategy = KellyCriterionStrategy(label_encoder)\n",
    "strategy = FixedFractionalStrategy(label_encoder, fraction=0.1)\n",
    "# strategy = ConfidenceThresholdStrategy(label_encoder, confidence_threshold=0.5, bet_size=0.1)\n",
    "# strategy = FractionalKellyCriterionStrategy(label_encoder, fraction=0.15)\n",
    "# strategy = DynamicFractionalKellyCriterionStrategy(label_encoder, min_fraction=0.15, max_fraction=0.35)\n",
    "print(f'Starting bankroll: {strategy.bankroll}')\n",
    "\n",
    "# Run the strategy\n",
    "strategy.run(X_test, y_test, classifier)\n",
    "print(f'Ending bankroll: {strategy.bankroll}')\n",
    "\n",
    "sns.lineplot(data=strategy.history, x='Match', y='Bankroll').set_title(classifier_name)\n",
    "plt.axhline(1000, color='r', linestyle='--')\n",
    "plt.show()"
   ]
  },
  {
   "cell_type": "code",
   "execution_count": 66,
   "metadata": {},
   "outputs": [
    {
     "data": {
      "text/html": [
       "<div>\n",
       "<style scoped>\n",
       "    .dataframe tbody tr th:only-of-type {\n",
       "        vertical-align: middle;\n",
       "    }\n",
       "\n",
       "    .dataframe tbody tr th {\n",
       "        vertical-align: top;\n",
       "    }\n",
       "\n",
       "    .dataframe thead th {\n",
       "        text-align: right;\n",
       "    }\n",
       "</style>\n",
       "<table border=\"1\" class=\"dataframe\">\n",
       "  <thead>\n",
       "    <tr style=\"text-align: right;\">\n",
       "      <th></th>\n",
       "      <th>Match</th>\n",
       "      <th>Bet</th>\n",
       "      <th>Stake</th>\n",
       "      <th>Outcome</th>\n",
       "      <th>ProfitLoss</th>\n",
       "      <th>Bankroll</th>\n",
       "      <th>Odds</th>\n",
       "    </tr>\n",
       "  </thead>\n",
       "  <tbody>\n",
       "    <tr>\n",
       "      <th>0</th>\n",
       "      <td>0</td>\n",
       "      <td>H</td>\n",
       "      <td>100.000000</td>\n",
       "      <td>Win</td>\n",
       "      <td>425.000000</td>\n",
       "      <td>1425.000000</td>\n",
       "      <td>5.25</td>\n",
       "    </tr>\n",
       "    <tr>\n",
       "      <th>1</th>\n",
       "      <td>1</td>\n",
       "      <td>H</td>\n",
       "      <td>142.500000</td>\n",
       "      <td>Loss</td>\n",
       "      <td>-142.500000</td>\n",
       "      <td>1282.500000</td>\n",
       "      <td>4.00</td>\n",
       "    </tr>\n",
       "    <tr>\n",
       "      <th>2</th>\n",
       "      <td>2</td>\n",
       "      <td>A</td>\n",
       "      <td>128.250000</td>\n",
       "      <td>Win</td>\n",
       "      <td>243.675000</td>\n",
       "      <td>1526.175000</td>\n",
       "      <td>2.90</td>\n",
       "    </tr>\n",
       "    <tr>\n",
       "      <th>3</th>\n",
       "      <td>3</td>\n",
       "      <td>H</td>\n",
       "      <td>152.617500</td>\n",
       "      <td>Win</td>\n",
       "      <td>114.463125</td>\n",
       "      <td>1640.638125</td>\n",
       "      <td>1.75</td>\n",
       "    </tr>\n",
       "    <tr>\n",
       "      <th>4</th>\n",
       "      <td>4</td>\n",
       "      <td>D</td>\n",
       "      <td>164.063813</td>\n",
       "      <td>Loss</td>\n",
       "      <td>-164.063813</td>\n",
       "      <td>1476.574312</td>\n",
       "      <td>3.75</td>\n",
       "    </tr>\n",
       "    <tr>\n",
       "      <th>...</th>\n",
       "      <td>...</td>\n",
       "      <td>...</td>\n",
       "      <td>...</td>\n",
       "      <td>...</td>\n",
       "      <td>...</td>\n",
       "      <td>...</td>\n",
       "      <td>...</td>\n",
       "    </tr>\n",
       "    <tr>\n",
       "      <th>223</th>\n",
       "      <td>223</td>\n",
       "      <td>H</td>\n",
       "      <td>195.780539</td>\n",
       "      <td>Win</td>\n",
       "      <td>626.497726</td>\n",
       "      <td>2584.303120</td>\n",
       "      <td>4.20</td>\n",
       "    </tr>\n",
       "    <tr>\n",
       "      <th>224</th>\n",
       "      <td>224</td>\n",
       "      <td>H</td>\n",
       "      <td>258.430312</td>\n",
       "      <td>Win</td>\n",
       "      <td>335.959406</td>\n",
       "      <td>2920.262526</td>\n",
       "      <td>2.30</td>\n",
       "    </tr>\n",
       "    <tr>\n",
       "      <th>225</th>\n",
       "      <td>225</td>\n",
       "      <td>H</td>\n",
       "      <td>292.026253</td>\n",
       "      <td>Loss</td>\n",
       "      <td>-292.026253</td>\n",
       "      <td>2628.236273</td>\n",
       "      <td>2.25</td>\n",
       "    </tr>\n",
       "    <tr>\n",
       "      <th>226</th>\n",
       "      <td>226</td>\n",
       "      <td>A</td>\n",
       "      <td>262.823627</td>\n",
       "      <td>Win</td>\n",
       "      <td>239.169501</td>\n",
       "      <td>2867.405774</td>\n",
       "      <td>1.91</td>\n",
       "    </tr>\n",
       "    <tr>\n",
       "      <th>227</th>\n",
       "      <td>227</td>\n",
       "      <td>D</td>\n",
       "      <td>286.740577</td>\n",
       "      <td>Loss</td>\n",
       "      <td>-286.740577</td>\n",
       "      <td>2580.665197</td>\n",
       "      <td>3.50</td>\n",
       "    </tr>\n",
       "  </tbody>\n",
       "</table>\n",
       "<p>228 rows × 7 columns</p>\n",
       "</div>"
      ],
      "text/plain": [
       "    Match Bet       Stake Outcome  ProfitLoss     Bankroll  Odds\n",
       "0       0   H  100.000000     Win  425.000000  1425.000000  5.25\n",
       "1       1   H  142.500000    Loss -142.500000  1282.500000  4.00\n",
       "2       2   A  128.250000     Win  243.675000  1526.175000  2.90\n",
       "3       3   H  152.617500     Win  114.463125  1640.638125  1.75\n",
       "4       4   D  164.063813    Loss -164.063813  1476.574312  3.75\n",
       "..    ...  ..         ...     ...         ...          ...   ...\n",
       "223   223   H  195.780539     Win  626.497726  2584.303120  4.20\n",
       "224   224   H  258.430312     Win  335.959406  2920.262526  2.30\n",
       "225   225   H  292.026253    Loss -292.026253  2628.236273  2.25\n",
       "226   226   A  262.823627     Win  239.169501  2867.405774  1.91\n",
       "227   227   D  286.740577    Loss -286.740577  2580.665197  3.50\n",
       "\n",
       "[228 rows x 7 columns]"
      ]
     },
     "execution_count": 66,
     "metadata": {},
     "output_type": "execute_result"
    }
   ],
   "source": [
    "strategy.history"
   ]
  },
  {
   "cell_type": "code",
   "execution_count": 68,
   "metadata": {},
   "outputs": [
    {
     "data": {
      "text/plain": [
       "{'Total Profit': 1580.6651968365009,\n",
       " 'Total Staked': 52816.933419444715,\n",
       " 'Current Bankroll': 2580.6651968365,\n",
       " 'Standard Deviation of Returns': 1.4363416541874383,\n",
       " 'Value at Risk (95%)': -516.2070523697046,\n",
       " 'ROI': 2.9927242921956054,\n",
       " 'Hit Rate': 0.4780701754385965,\n",
       " 'Volatility': 351.84274387315685,\n",
       " 'Max Drawdown': 4271.205244167344}"
      ]
     },
     "execution_count": 68,
     "metadata": {},
     "output_type": "execute_result"
    }
   ],
   "source": [
    "strategy.metric_report()"
   ]
  },
  {
   "cell_type": "code",
   "execution_count": 13,
   "metadata": {},
   "outputs": [],
   "source": [
    "# import seaborn as sns\n",
    "# import matplotlib.pyplot as plt\n",
    "\n",
    "# # Initialize a figure for the gridplot\n",
    "# fig, axs = plt.subplots(len(classifiers), figsize=(15, 20))\n",
    "\n",
    "# # Run the strategy for each classifier and plot the results\n",
    "# for i, (name, classifier) in enumerate(classifiers.items()):\n",
    "#     # Initialize the Kelly Criterion Strategy\n",
    "#     print(f'Running {name}...')\n",
    "#     strategy = ConfidenceThresholdStrategy(label_encoder, confidence_threshold=0.5, bet_size=0.1)\n",
    "#     print(f'Starting bankroll: {strategy.bankroll}')\n",
    "\n",
    "#     # Run the strategy\n",
    "#     strategy.run(X_test, y_test, classifier)\n",
    "#     print(f'Ending bankroll: {strategy.bankroll}')\n",
    "    \n",
    "#     # Plot the history\n",
    "#     sns.lineplot(data=strategy.history, x='Match', y='Bankroll', ax=axs[i]).set_title(name)\n",
    "\n",
    "# plt.tight_layout()\n",
    "# plt.show()\n"
   ]
  },
  {
   "cell_type": "code",
   "execution_count": 14,
   "metadata": {},
   "outputs": [],
   "source": [
    "# from sklearn.model_selection import GridSearchCV\n",
    "# from sklearn.ensemble import RandomForestClassifier\n",
    "# from sklearn.metrics import make_scorer, log_loss\n",
    "\n",
    "# # Define the parameter grid\n",
    "# param_grid = {\n",
    "#     'n_estimators': [100, 200, 300],\n",
    "#     'max_depth': [None, 5, 10, 15],\n",
    "#     'min_samples_split': [2, 5, 10]\n",
    "# }\n",
    "\n",
    "# # Create a scorer\n",
    "# log_loss_scorer = make_scorer(log_loss, greater_is_better=False, needs_proba=True)\n",
    "\n",
    "# # Create the GridSearchCV object\n",
    "# grid_search = GridSearchCV(\n",
    "#     RandomForestClassifier(random_state=42), \n",
    "#     param_grid, \n",
    "#     cv=5, \n",
    "#     scoring=log_loss_scorer,\n",
    "#     verbose=1\n",
    "# )\n",
    "\n",
    "# # Fit the GridSearchCV object to the data\n",
    "# grid_search.fit(X_train, y_train)\n",
    "\n",
    "# # Print the best parameters and the corresponding score\n",
    "# print(\"Best parameters: \", grid_search.best_params_)\n",
    "# print(\"Best log loss: \", grid_search.best_score_)\n"
   ]
  }
 ],
 "metadata": {
  "kernelspec": {
   "display_name": "digital_finance",
   "language": "python",
   "name": "python3"
  },
  "language_info": {
   "codemirror_mode": {
    "name": "ipython",
    "version": 3
   },
   "file_extension": ".py",
   "mimetype": "text/x-python",
   "name": "python",
   "nbconvert_exporter": "python",
   "pygments_lexer": "ipython3",
   "version": "3.8.13"
  },
  "orig_nbformat": 4
 },
 "nbformat": 4,
 "nbformat_minor": 2
}
